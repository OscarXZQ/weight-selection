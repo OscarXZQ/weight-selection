{
 "cells": [
  {
   "cell_type": "code",
   "execution_count": 18,
   "metadata": {},
   "outputs": [],
   "source": [
    "import numpy as np\n",
    "import torch\n",
    "import timm"
   ]
  },
  {
   "cell_type": "code",
   "execution_count": 19,
   "metadata": {},
   "outputs": [],
   "source": [
    "def uniform_element_selection(wt, s_shape):\n",
    "    assert wt.dim() == len(s_shape), \"Tensors have different number of dimensions\"\n",
    "    ws = wt.clone()\n",
    "    for dim in range(wt.dim()):\n",
    "        assert wt.shape[dim] >= s_shape[dim], \"Teacher's dimension should not be smaller than student's dimension\"  # determine whether teacher is larger than student on this dimension\n",
    "        if wt.shape[dim] % s_shape[dim] == 0:\n",
    "            step = wt.shape[dim] // s_shape[dim]\n",
    "            indices = torch.arange(s_shape[dim]) * step\n",
    "        else:\n",
    "            indices = torch.round(torch.linspace(0, wt.shape[dim]-1, s_shape[dim])).long()\n",
    "        ws = torch.index_select(ws, dim, indices)\n",
    "    assert ws.shape == s_shape\n",
    "    return ws"
   ]
  },
  {
   "cell_type": "code",
   "execution_count": 20,
   "metadata": {},
   "outputs": [],
   "source": [
    "# ViT-T weight selection from ImageNet-21K pretrained ViT-S\n",
    "teacher = timm.create_model('vit_small_patch16_224_in21k', pretrained=True)\n",
    "teacher_weights = teacher.state_dict()\n",
    "from models.vision_transformer import vit_tiny\n",
    "student = vit_tiny()\n",
    "student_weights = student.state_dict()\n",
    "# ConvNeXt-F weight seletion from ImageNet-21K pretrained ConvNeXt-T\n",
    "# Uncomment below for ConvNeXt\n",
    "# teacher = timm.create_model('convnext_tiny_in22k', pretrained=True)\n",
    "# teacher_weights = teacher.state_dict()\n",
    "# from models.convnext import convnext_femto\n",
    "# student = convnext_femto()\n",
    "# student_weights = student.state_dict()"
   ]
  },
  {
   "cell_type": "code",
   "execution_count": 21,
   "metadata": {},
   "outputs": [],
   "source": [
    "weight_selection = {}\n",
    "for key in student_weights.keys():\n",
    "    # We don't perform weight selection on classification head by default. Remove this constraint if target dataset is the same as teacher's.\n",
    "    if \"head\" in key:\n",
    "        continue\n",
    "    # First-N layer selection is implicitly applied here\n",
    "    weight_selection[key] = uniform_element_selection(teacher_weights[key], student_weights[key].shape)"
   ]
  },
  {
   "cell_type": "code",
   "execution_count": 22,
   "metadata": {},
   "outputs": [],
   "source": [
    "torch.save({'model':weight_selection}, \"weight_selection.pth\")"
   ]
  }
 ],
 "metadata": {
  "kernelspec": {
   "display_name": "Python [conda env:ws]",
   "language": "python",
   "name": "conda-env-ws-py"
  },
  "language_info": {
   "codemirror_mode": {
    "name": "ipython",
    "version": 3
   },
   "file_extension": ".py",
   "mimetype": "text/x-python",
   "name": "python",
   "nbconvert_exporter": "python",
   "pygments_lexer": "ipython3",
   "version": "3.8.13"
  }
 },
 "nbformat": 4,
 "nbformat_minor": 4
}
